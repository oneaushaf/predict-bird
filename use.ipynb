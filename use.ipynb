{
 "cells": [
  {
   "cell_type": "code",
   "execution_count": 1,
   "metadata": {},
   "outputs": [],
   "source": [
    "import numpy as np\n",
    "import json\n",
    "from sklearn.metrics import precision_score, recall_score\n",
    "from keras.models import load_model\n",
    "from keras.preprocessing.image import ImageDataGenerator"
   ]
  },
  {
   "cell_type": "code",
   "execution_count": 5,
   "metadata": {},
   "outputs": [
    {
     "name": "stdout",
     "output_type": "stream",
     "text": [
      "Found 73 images belonging to 16 classes.\n"
     ]
    },
    {
     "name": "stdout",
     "output_type": "stream",
     "text": [
      "3/3 [==============================] - 3s 557ms/step\n",
      "['001-Bangau Leher Hitam', '002-Curik Bali', '003-Ekek Geling', '004-Gelatik Jawa', '005-Kakatua Raja', '006-Luntur Harimau', '007-Merak Hijau', '008-Paok Bidadari', '009-Raja Udang Kalung Biru Jawa', '010-Sikatan Besar', '011-Baza hitam', '012-Cendrawasih Kecil', '013-Sempidan Kalimantan', '014-Mentok Rimba', '015-Cerecet Jawa', '016-Julang Jambul Hitam']\n",
      "[ 0  0  0  0  0  0  1  1  1  1  1  2  2  2  2  2  8  2  2  4  4  4  4  4\n",
      "  5  5  5  5  4  6  6  6  6  6  7  7  7  7  7  8  8  8  8  8  9  9  9  9\n",
      "  9 10 10 10 10 15 15 15 11 12 12 12 12 13 13 13 13 14 14 14 14 15 15 15\n",
      " 15]\n"
     ]
    }
   ],
   "source": [
    "dataset_path = './../dataset/training'\n",
    "model_path = './../models'\n",
    "\n",
    "test_datagen = ImageDataGenerator(\n",
    "        rescale=1/255.,\n",
    "    )\n",
    "\n",
    "IMG_SIZE = (224, 224)\n",
    "test_dir = dataset_path + '/testing'\n",
    "test_data = test_datagen.flow_from_directory(test_dir, shuffle=False,\n",
    "                                                target_size=IMG_SIZE,\n",
    "                                                batch_size=32)\n",
    "\n",
    "model = load_model(model_path + '/' + \"temp\" +'/SavedModel.h5')\n",
    "predictions = model.predict(test_data)\n",
    "predicted_labels = np.argmax(predictions, axis=1)\n",
    "with open(model_path + '/' + \"temp\" +'/species.json',\"r\") as f:\n",
    "            species = json.load(f)\n",
    "classes = list(test_data.class_indices.keys())\n",
    "print(species)\n",
    "print(predicted_labels)"
   ]
  },
  {
   "cell_type": "code",
   "execution_count": 6,
   "metadata": {},
   "outputs": [
    {
     "name": "stdout",
     "output_type": "stream",
     "text": [
      "[1.         1.         1.         0.83333333 1.         1.\n",
      " 1.         0.83333333 1.         1.         1.         1.\n",
      " 1.         1.         0.57142857]\n"
     ]
    }
   ],
   "source": [
    "precision_values = precision_score(test_data.classes, predicted_labels, average=None)\n",
    "recall_values = recall_score(test_data.classes, predicted_labels, average=None)\n",
    "overall_precision = precision_score(test_data.classes, predicted_labels, average='weighted')\n",
    "overall_recall = recall_score(test_data.classes, predicted_labels, average='weighted')\n",
    "\n",
    "print(precision_values)"
   ]
  }
 ],
 "metadata": {
  "kernelspec": {
   "display_name": "Python 3",
   "language": "python",
   "name": "python3"
  },
  "language_info": {
   "codemirror_mode": {
    "name": "ipython",
    "version": 3
   },
   "file_extension": ".py",
   "mimetype": "text/x-python",
   "name": "python",
   "nbconvert_exporter": "python",
   "pygments_lexer": "ipython3",
   "version": "3.10.6"
  }
 },
 "nbformat": 4,
 "nbformat_minor": 2
}
